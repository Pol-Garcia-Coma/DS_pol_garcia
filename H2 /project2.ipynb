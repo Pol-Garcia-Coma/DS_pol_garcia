{
 "cells": [
  {
   "cell_type": "markdown",
   "metadata": {},
   "source": [
    "![bse_logo_textminingcourse](https://bse.eu/sites/default/files/bse_logo_small.png)"
   ]
  },
  {
   "cell_type": "markdown",
   "metadata": {},
   "source": [
    "# Introduction to Text Mining \n",
    "\n",
    "## Homework 2\n",
    "\n",
    "### Marta Sala, Noemi Lucchi and Pol Garcia Coma"
   ]
  },
  {
   "cell_type": "code",
   "execution_count": 37,
   "metadata": {},
   "outputs": [
    {
     "name": "stdout",
     "output_type": "stream",
     "text": [
      "Package Versions for Reproducibility:\n",
      "Python: 3.12.2 | packaged by conda-forge | (main, Feb 16 2024, 20:54:21) [Clang 16.0.6 ]\n",
      "Pandas: 2.2.3\n",
      "NumPy: 1.26.4\n",
      "NLTK: 3.9.1\n",
      "SpaCy: 3.8.2\n",
      "KaggleHub: 0.3.9\n",
      "TQDM: 4.67.1\n",
      "Seaborn: 0.13.2\n",
      "Matplotlib: 3.10.0\n",
      "WordCloud: 1.9.4\n",
      "Scikit-learn: 1.6.1\n"
     ]
    },
    {
     "name": "stderr",
     "output_type": "stream",
     "text": [
      "[nltk_data] Downloading package stopwords to\n",
      "[nltk_data]     /Users/polgarcia/nltk_data...\n",
      "[nltk_data]   Package stopwords is already up-to-date!\n",
      "[nltk_data] Downloading package punkt to /Users/polgarcia/nltk_data...\n",
      "[nltk_data]   Package punkt is already up-to-date!\n"
     ]
    }
   ],
   "source": [
    "# Import necessary packages \n",
    "import pandas as pd\n",
    "import re\n",
    "import os\n",
    "import sys\n",
    "import spacy\n",
    "import nltk\n",
    "import kagglehub\n",
    "import numpy as np\n",
    "import importlib.metadata  \n",
    "from tqdm import tqdm\n",
    "import seaborn as sns\n",
    "import matplotlib.pyplot as plt\n",
    "from wordcloud import WordCloud\n",
    "from sklearn.feature_extraction.text import CountVectorizer, TfidfVectorizer\n",
    "import sklearn\n",
    "\n",
    "# Download NLTK resources\n",
    "nltk.download('stopwords')\n",
    "nltk.download('punkt')\n",
    "\n",
    "# Print package versions for reproducibility\n",
    "print(\"Package Versions for Reproducibility:\")\n",
    "print(f\"Python: {sys.version}\")\n",
    "print(f\"Pandas: {pd.__version__}\")\n",
    "print(f\"NumPy: {np.__version__}\")\n",
    "print(f\"NLTK: {nltk.__version__}\")\n",
    "print(f\"SpaCy: {spacy.__version__}\")\n",
    "print(f\"KaggleHub: {kagglehub.__version__}\")\n",
    "print(f\"TQDM: {importlib.metadata.version('tqdm')}\") \n",
    "print(f\"Seaborn: {sns.__version__}\")\n",
    "print(f\"Matplotlib: {importlib.metadata.version('matplotlib')}\")  \n",
    "print(f\"WordCloud: {importlib.metadata.version('wordcloud')}\")\n",
    "print(f\"Scikit-learn: {sklearn.__version__}\")"
   ]
  },
  {
   "cell_type": "markdown",
   "metadata": {},
   "source": [
    "#### We first import the three datasets we will use in our analysis:\n",
    "- `racism` and `sexism`, which are already labelled and will be used to define our dictionaries,\n",
    "-  the unlabelled `youtube` dataset to test if our dictionaries can effectively detect the different forms of cyberbullying."
   ]
  },
  {
   "cell_type": "code",
   "execution_count": 38,
   "metadata": {},
   "outputs": [],
   "source": [
    "# Download the datasets from Kaggle\n",
    "path = kagglehub.dataset_download(\"gbiamgaurav/cyberbullying-detection\")\n",
    "\n",
    "racism_path = os.path.join(path, \"twitter_racism_parsed_dataset.csv\")  \n",
    "racism = pd.read_csv(racism_path)\n",
    "\n",
    "sexism_path = os.path.join(path, \"twitter_sexism_parsed_dataset.csv\")  \n",
    "sexism = pd.read_csv(sexism_path)\n",
    "\n",
    "youtube_path = os.path.join(path, \"youtube_parsed_dataset.csv\")  \n",
    "youtube = pd.read_csv(youtube_path)"
   ]
  },
  {
   "cell_type": "markdown",
   "metadata": {},
   "source": [
    "# 1. Define a function to pre-process the text and process the three datasets \n",
    "\n",
    "This preprocessing pipeline is designed to clean and standardize social media text data by applying multiple cleaning and filtering steps. \n",
    "The pipeline includes the following major components:\n",
    "\n",
    "### 1. Initial Setup:\n",
    "   - Increases Python's recursion limit to handle the processing of complex documents\n",
    "   - Define customized stopwords to update the spacy default stopwords\n",
    "\n",
    "### 2. Text Cleaning Functions:\n",
    "`remove_repeated_words()`: removes consecutive duplicate words in text and by using regex to match and remove immediate word repetitions.\n",
    "\n",
    "`clean_social_text()`: handles social media specific elements:\n",
    "- Converts HTML entities (e.g., &amp; to &)\n",
    "- Removes @ mentions\n",
    "- Removes URLs/links\n",
    "- Removes hashtags\n",
    "- Removes 'RT' (retweet) indicators\n",
    "- Strips non-alphabetic characters\n",
    "- Converts text to lowercase\n",
    "- Removes extra whitespace\n",
    "\n",
    "`text_processing()`: main processing function that:\n",
    "-  Applies the two functions defined above\n",
    "- Uses spacy's full pipeline for linguistic analysis\n",
    "- Removes stopwords (both customized and deafult ones)\n",
    "- Removes single-character tokens\n",
    "- Removes punctuation\n",
    "- Removes numeric values\n",
    "- Keeps only nouns, verbs, and adjectives\n",
    "- Removes proper names\n",
    "- Performs lemmatization \n",
    "\n",
    "`process_dataframe()`:\n",
    "- Processes text data in batches to avoid memory issues\n",
    "- Creates a new 'Text_cleaned' column and append it to the original dataframe\n",
    "- Applies the complete preprocessing pipeline to each document in the csv file\n",
    "\n",
    "Given the purpose of our analysis, this preprocessing pipeline is relatively aggressive in the filtering, since it keeps only the most semantically meaningful content words while and removes various types of common words in social media texts that would just add noise in our dictionaries. "
   ]
  },
  {
   "cell_type": "code",
   "execution_count": 54,
   "metadata": {},
   "outputs": [],
   "source": [
    "# Increase recursion limit\n",
    "sys.setrecursionlimit(10000)\n",
    "\n",
    "# Set tqdm\n",
    "tqdm.pandas()\n",
    "\n",
    "# Initialize spacy\n",
    "nlp = spacy.load('en_core_web_sm')\n",
    "\n",
    "# Customize spacy stopwords\n",
    "custom_stopwords = {\n",
    "    'like', 'go', 'do', 'get', 'think', 'want', 'know', 'find', 'funny', 'instant',\n",
    "    'one', 'would', 'look', 'no', 'time', 'say', 'oh', 'make', 'real', 'andre', 'face', \n",
    "    'use', 'that', 'even', 'see', 'good', 'need', 'tell', 'kat', 'believe', 'lol',\n",
    "    'got', 'still', 'way', 'try', 'come', 'let', 'talk', 'stop', 'feel', 'read'}\n",
    "\n",
    "# Add custom stopwords to spacy's default words \n",
    "for word in custom_stopwords:\n",
    "    nlp.Defaults.stop_words.add(word)\n",
    "    lex = nlp.vocab[word]\n",
    "    lex.is_stop = True  \n",
    "\n",
    "# Remove consecutive identical words \n",
    "def remove_repeated_words(text):\n",
    "    return re.sub(r'\\b(\\w+)( \\1\\b)+', r'\\1', text)\n",
    "\n",
    "def clean_social_text(text):\n",
    "    text = re.sub(r'&amp;', '&', text)                         # Convert HTML entities\n",
    "    text = re.sub(r'@\\w+', '', text)                           # Remove mentions\n",
    "    text = re.sub(r'http\\S+', '', text)                        # Remove links\n",
    "    text = re.sub(r'#\\w+', '', text)                           # Remove hashtags\n",
    "    text = re.sub(r'\\brt\\b', '', text, flags=re.IGNORECASE)    # Remove RT\n",
    "    text = re.sub(r'[^a-zA-Z\\s]', '', text)                    # Keep only letters and spaces\n",
    "    return text.lower().strip()\n",
    "\n",
    "# Main pre-processing function \n",
    "def text_processing(text, max_length=1000):\n",
    "    # Clean social media elements \n",
    "    text = clean_social_text(text)\n",
    "    text = remove_repeated_words(text)\n",
    "\n",
    "    # Process text with spaCy\n",
    "    doc = nlp(text[:max_length])\n",
    "\n",
    "    # Remove stopwords after lemmatization\n",
    "    filtered_tokens = [\n",
    "        token.lemma_  # Use lemmatized form\n",
    "        for token in doc\n",
    "        if (\n",
    "            token.lemma_ not in nlp.Defaults.stop_words and    # Remove spaCy stopwords\n",
    "            token.lemma_.isalpha() and                         # Keep only letters  \n",
    "            len(token.lemma_) > 1 and                          # Remove tokens with only one character \n",
    "            not token.is_punct and                             # Remove punctuations          \n",
    "            token.pos_ in ['NOUN', 'VERB', 'ADJ']          # Keep only nouns, verbs, and adjectives\n",
    "            #token.ent_type_ == '' )]                           # Remove proper names, countries, etc.\n",
    "                    )]\n",
    "    return \" \".join(filtered_tokens)\n",
    "\n",
    "# Process the dataframe in batches to avoid memory issues\n",
    "def process_dataframe(df, text_column='Text', batch_size=1000):\n",
    "    df[text_column] = df[text_column].astype(str)\n",
    "    df['Text_cleaned'] = \"\"\n",
    "    \n",
    "    for start_idx in tqdm(range(0, len(df), batch_size)):\n",
    "        end_idx = min(start_idx + batch_size, len(df))\n",
    "        batch = df.iloc[start_idx:end_idx]\n",
    "        df.loc[start_idx:end_idx, 'Text_cleaned'] = batch[text_column].apply(text_processing)\n",
    "    \n",
    "    return df"
   ]
  },
  {
   "cell_type": "code",
   "execution_count": 43,
   "metadata": {},
   "outputs": [
    {
     "name": "stderr",
     "output_type": "stream",
     "text": [
      "100%|██████████| 15/15 [00:26<00:00,  1.75s/it]\n",
      "100%|██████████| 14/14 [00:22<00:00,  1.63s/it]\n",
      "100%|██████████| 4/4 [00:28<00:00,  7.23s/it]\n"
     ]
    }
   ],
   "source": [
    "sexism = process_dataframe(sexism, text_column='Text', batch_size=1000)\n",
    "racism = process_dataframe(racism, text_column='Text', batch_size=1000)\n",
    "youtube = process_dataframe(youtube, text_column='Text', batch_size=1000)"
   ]
  },
  {
   "cell_type": "markdown",
   "metadata": {},
   "source": [
    "# 2. Sexism Dictionary"
   ]
  },
  {
   "cell_type": "markdown",
   "metadata": {},
   "source": [
    "#### Considering that our dataset is labelled, there are two possible approaches we can implement:\n",
    "- filter for comments that have been labelled as **sexist**, compute the **Document Term Matrix** and retrieve the most frequent words. Indeed, if we only use comments that are already known to be sexist, there is no need to use TF-IDF, since it would lead to penalize words that appear across all documents, but, in this case, if a words appears across all (sexist) documents, it might be a relevant one in detecting this type of cyberbullying, hence, it would have to be included in our dictionary.\n",
    "\n",
    "- use the **whole dataset** (as if we did not have labels) and apply **TF-IDF**. If we use a whole dataset, we no longer are interested in words that appear across all documents (since, in this case, they would indeed represent just common words), but we are instead interested in distinguishing terms. So here is reasonable to apply TF-IDF and then build the dictionary basing on words that have an higher IDF score. \n",
    "\n",
    "We will implement both approaches, and use the first method as benchmark and see how much the second one deviates. "
   ]
  },
  {
   "cell_type": "markdown",
   "metadata": {},
   "source": [
    "### 2.1 **Approach 1: filter for sexist comments and define the Document Term Matrix**"
   ]
  },
  {
   "cell_type": "code",
   "execution_count": 55,
   "metadata": {},
   "outputs": [
    {
     "name": "stdout",
     "output_type": "stream",
     "text": [
      "examples of words in the dictionary:\n",
      "              term  frequency  frequency_pct\n",
      "835         sexist        957      28.338762\n",
      "1086         woman        623      18.448327\n",
      "390           girl        366      10.838022\n",
      "570            man        264       7.817590\n",
      "329         female        241       7.136512\n",
      "865   sexist woman        143       4.234528\n",
      "791          right        134       3.968019\n",
      "341       feminist        130       3.849571\n",
      "88           bitch        105       3.109269\n",
      "927          sport        105       3.109269\n",
      "number of words in the dictionary: 63\n"
     ]
    }
   ],
   "source": [
    "# Filter for negative comments \n",
    "aggressive_texts = sexism[sexism['oh_label'] == 1]['Text_cleaned']\n",
    "\n",
    "# Create Document Term Matrix\n",
    "pd.set_option('display.max_columns', None)\n",
    "vectorizer = CountVectorizer(min_df=0.001, max_df=0.90, ngram_range=(1, 2))\n",
    "dtm = vectorizer.fit_transform(aggressive_texts)\n",
    "\n",
    "# Get the features' names\n",
    "dtm_features = vectorizer.get_feature_names_out()\n",
    "\n",
    "# Compute absolute frequencies (how many times each term appears)\n",
    "term_frequencies = np.array(dtm.sum(axis=0)).flatten()\n",
    "\n",
    "# Create a dataframe with terms and the corresponding frequencies \n",
    "dtm_terms = pd.DataFrame({ 'term': dtm_features, 'frequency': term_frequencies})\n",
    "\n",
    "# Compute percentage frequencies (percentage of documents in which each term appears)\n",
    "dtm_terms['frequency_pct'] = dtm_terms['frequency'] / len(aggressive_texts) * 100\n",
    "\n",
    "# Sort by frequency \n",
    "dtm_terms = dtm_terms.sort_values('frequency', ascending=False)\n",
    "\n",
    "# Create the dictionary \n",
    "dtm_dictionary = dtm_terms[dtm_terms['frequency_pct'] > 1.0]\n",
    "\n",
    "# Check the dictionary\n",
    "print(\"examples of words in the dictionary:\")\n",
    "print(dtm_dictionary.head(10))\n",
    "print(\"number of words in the dictionary:\", len(dtm_dictionary))"
   ]
  },
  {
   "cell_type": "markdown",
   "metadata": {},
   "source": [
    "### 2.2 **Approach 2: use the whole dataset and apply TF-IDF**"
   ]
  },
  {
   "cell_type": "code",
   "execution_count": 57,
   "metadata": {},
   "outputs": [
    {
     "name": "stdout",
     "output_type": "stream",
     "text": [
      "examples of words in the dictionary:\n",
      "       term  tfidf_score\n",
      "136   woman     0.033647\n",
      "107  sexist     0.032986\n",
      "91   people     0.022188\n",
      "38     girl     0.022001\n",
      "77      man     0.018753\n",
      "132      ve     0.014879\n",
      "125   thing     0.014049\n",
      "100   right     0.013642\n",
      "34     fuck     0.013610\n",
      "15     cook     0.013550\n",
      "number of words in the dictionary: 77\n"
     ]
    }
   ],
   "source": [
    "# Implement TF-IDF \n",
    "tfidf = TfidfVectorizer(ngram_range=(1,2), min_df=0.005, max_df=0.30)\n",
    "tfidf_matrix = tfidf.fit_transform(sexism['Text_cleaned'])\n",
    "tfidf_features = tfidf.get_feature_names_out()\n",
    "\n",
    "# Compute the TF-IDF scores \n",
    "avg_tfidf = np.array(tfidf_matrix.mean(axis=0)).flatten()\n",
    "\n",
    "# Create a dataframe with words and corresponding TF-IDF scores \n",
    "tfidf_terms = pd.DataFrame({'term': tfidf_features, 'tfidf_score': avg_tfidf})\n",
    "\n",
    "# Sort by descending TF-IDF score\n",
    "tfidf_terms = tfidf_terms.sort_values('tfidf_score', ascending=False)\n",
    "\n",
    "# Filter for words with TF-IDF score > 0.01\n",
    "tfidf_dictionary = tfidf_terms[tfidf_terms['tfidf_score'] > 0.005]\n",
    "\n",
    "# Check the dictionary\n",
    "print(\"examples of words in the dictionary:\")\n",
    "print(tfidf_dictionary.head(10))\n",
    "print(\"number of words in the dictionary:\", len(tfidf_dictionary))"
   ]
  },
  {
   "cell_type": "markdown",
   "metadata": {},
   "source": [
    "#### Common words between the twe DTM dictionary and the TF-IDF one"
   ]
  },
  {
   "cell_type": "code",
   "execution_count": 58,
   "metadata": {},
   "outputs": [
    {
     "name": "stdout",
     "output_type": "stream",
     "text": [
      "\n",
      " number of common words across the two dictionaries: 41\n",
      "examples of commond words: ['right', 'ill', 'wrong', 'year', 'hate', 'sexist woman', 'people', 'drive', 'actually', 'female', 'thing', 'hope', 'pretty', 'woman', 'sexist', 'work', 'stupid', 'mean', 'play', 'man']\n"
     ]
    }
   ],
   "source": [
    "common_terms = set(dtm_dictionary['term']) & set(tfidf_dictionary['term'])\n",
    "print(f\"\\n number of common words across the two dictionaries: {len(common_terms)}\")\n",
    "print(\"examples of commond words:\", list(common_terms)[:20])"
   ]
  },
  {
   "cell_type": "markdown",
   "metadata": {},
   "source": [
    "# 3. Racism Dataset"
   ]
  },
  {
   "cell_type": "markdown",
   "metadata": {},
   "source": [
    "#### We will implement the same logic as before, meaning that we will create two different dictionaries: \n",
    "- one basing on DTM and the subset of data that has been flagged as racist\n",
    "- one with TF-IDF and the whole dataset. \n",
    "\n",
    "Additionally, since the examples of racism in our sample are primarily related to **Islamophobia**, it is challenging to distinguish between actual racism and general comments or tweets about Islam-related topics.\n",
    "\n",
    "To address this issue, we initially considered retrieving only **bigrams**, allowing our dictionary to detect instances where an Islam-related word is associated with an offensive term. We tested this approach (and present the corresponding results below), but it resulted in a very limited dictionary, which was hardly useful for detecting racism.\n",
    "\n",
    "After this attempt, we decided to include **both single words and bigrams** to build a broader dictionary, capable of capturing not only Islamophobia but also other forms of racism across different corpora."
   ]
  },
  {
   "cell_type": "markdown",
   "metadata": {},
   "source": [
    "### 3.1 **Approach 1: filter for racist comments and define the Document Term Matrix**"
   ]
  },
  {
   "cell_type": "markdown",
   "metadata": {},
   "source": [
    "#### Create a dictionary with only biagrams"
   ]
  },
  {
   "cell_type": "code",
   "execution_count": 59,
   "metadata": {},
   "outputs": [
    {
     "name": "stdout",
     "output_type": "stream",
     "text": [
      "examples of biagrams in the dictionary:\n",
      "                   term  frequency  frequency_pct\n",
      "1809        declare war         53       2.690355\n",
      "6744    prophet mohamme         43       2.182741\n",
      "8819       war humanity         40       2.030457\n",
      "9162           year ago         40       2.030457\n",
      "6856       quran hadith         39       1.979695\n",
      "6265  pedophile prophet         29       1.472081\n",
      "3869      islam declare         29       1.472081\n",
      "3420      humanity year         26       1.319797\n",
      "3995     islam religion         20       1.015228\n",
      "5571     muslim country         19       0.964467\n",
      "number of words in the dictionary: 29\n"
     ]
    }
   ],
   "source": [
    "# Filter for negative comments \n",
    "racist_texts = racism[racism['oh_label'] == 1]['Text_cleaned']\n",
    "\n",
    "# Create Document Term Matrix\n",
    "pd.set_option('display.max_columns', None)\n",
    "vectorizer = CountVectorizer(ngram_range=(2, 2), min_df=1, max_df=0.90)\n",
    "dtm = vectorizer.fit_transform(racist_texts)\n",
    "\n",
    "# Get the features' names\n",
    "dtm_features2 = vectorizer.get_feature_names_out()\n",
    "\n",
    "# Compute absolute frequencies (how many times each term appears)\n",
    "term_frequencies2 = np.array(dtm.sum(axis=0)).flatten()\n",
    "\n",
    "# Create a dataframe with terms and the corresponding frequencies \n",
    "dtm_terms2 = pd.DataFrame({ 'term': dtm_features2, 'frequency': term_frequencies2})\n",
    "\n",
    "# Compute percentage frequencies (percentage of documents in which each term appears)\n",
    "dtm_terms2['frequency_pct'] = dtm_terms2['frequency'] / len(racist_texts) * 100\n",
    "\n",
    "# Sort by frequency \n",
    "dtm_terms2 = dtm_terms2.sort_values('frequency', ascending=False)\n",
    "\n",
    "# Create the dictionary with only biagrams\n",
    "dtm_dic_biagrams = dtm_terms2[dtm_terms2['frequency_pct'] > 0.5]\n",
    "\n",
    "# Check the dictionary \n",
    "print(\"examples of biagrams in the dictionary:\")\n",
    "print(dtm_dic_biagrams.head(10))\n",
    "print(\"number of words in the dictionary:\", len(dtm_dic_biagrams))"
   ]
  },
  {
   "cell_type": "markdown",
   "metadata": {},
   "source": [
    "#### Create a dictionary with unigrams and biagrams"
   ]
  },
  {
   "cell_type": "code",
   "execution_count": 61,
   "metadata": {},
   "outputs": [
    {
     "name": "stdout",
     "output_type": "stream",
     "text": [
      "examples of words in the dictionary:\n",
      "        term  frequency  frequency_pct\n",
      "42     islam        506      25.685279\n",
      "69    muslim        498      25.279188\n",
      "67    murder        183       9.289340\n",
      "86  religion        152       7.715736\n",
      "66  mohammed        136       6.903553\n",
      "81   prophet        136       6.903553\n",
      "41      isis        134       6.802030\n",
      "83     quran        127       6.446701\n",
      "77    people        125       6.345178\n",
      "50      jews        124       6.294416\n",
      "number of words in the dictionary: 114\n"
     ]
    }
   ],
   "source": [
    "# Create Document Term Matrix\n",
    "pd.set_option('display.max_columns', None)\n",
    "vectorizer = CountVectorizer(ngram_range=(1, 2), min_df=0.01, max_df=0.9)\n",
    "dtm = vectorizer.fit_transform(racist_texts)\n",
    "\n",
    "# Get the features' names\n",
    "dtm_features2 = vectorizer.get_feature_names_out()\n",
    "\n",
    "# Compute absolute frequencies (how many times each term appears)\n",
    "term_frequencies2 = np.array(dtm.sum(axis=0)).flatten()\n",
    "\n",
    "# Create a dataframe with terms and the corresponding frequencies \n",
    "dtm_terms2 = pd.DataFrame({ 'term': dtm_features2, 'frequency': term_frequencies2})\n",
    "\n",
    "# Compute percentage frequencies (percentage of documents in which each term appears)\n",
    "dtm_terms2['frequency_pct'] = dtm_terms2['frequency'] / len(racist_texts) * 100\n",
    "\n",
    "# Sort by frequency \n",
    "dtm_terms2 = dtm_terms2.sort_values('frequency', ascending=False)\n",
    "\n",
    "# Create the dictionary with unigrams and biagrams \n",
    "dtm_dictionary2 = dtm_terms2[dtm_terms2['frequency_pct'] > 1]\n",
    "\n",
    "# Check the dictionary with unigrams and biagrams\n",
    "print(\"examples of words in the dictionary:\")\n",
    "print(dtm_dictionary2.head(10))\n",
    "print(\"number of words in the dictionary:\", len(dtm_dictionary2))"
   ]
  },
  {
   "cell_type": "markdown",
   "metadata": {},
   "source": [
    "### 3.2 **Approach 2: use the whole dataset and apply TF-IDF**"
   ]
  },
  {
   "cell_type": "markdown",
   "metadata": {},
   "source": [
    "#### Create a dictionary with only biagrams"
   ]
  },
  {
   "cell_type": "code",
   "execution_count": 62,
   "metadata": {},
   "outputs": [
    {
     "name": "stdout",
     "output_type": "stream",
     "text": [
      "examples of bigrams in the dictionary:\n",
      "                term  tfidf_score\n",
      "35      quran hadith     0.004155\n",
      "19       katie nikki     0.004149\n",
      "0        annie lloyd     0.004126\n",
      "45      sudden death     0.003639\n",
      "34   prophet mohamme     0.003338\n",
      "37  restaurant round     0.002724\n",
      "21        lemon tart     0.002578\n",
      "1        ash camilla     0.002279\n",
      "40      sheri emilie     0.002180\n",
      "8        declare war     0.002102\n",
      "number of bigrams in the dictionary: 50\n"
     ]
    }
   ],
   "source": [
    "# Implement TF-IDF \n",
    "tfidf2 = TfidfVectorizer(ngram_range=(2,2), min_df=0.001, max_df=0.30)\n",
    "tfidf_matrix2 = tfidf2.fit_transform(racism['Text_cleaned'])\n",
    "tfidf_features2 = tfidf2.get_feature_names_out()\n",
    "\n",
    "# Compute the TF-IDF scores \n",
    "avg_tfidf2 = np.array(tfidf_matrix2.mean(axis=0)).flatten()\n",
    "\n",
    "# Create a dataframe with words and corresponding TF-IDF scores \n",
    "tfidf_terms2 = pd.DataFrame({'term': tfidf_features2, 'tfidf_score': avg_tfidf2})\n",
    "\n",
    "# Sort by descending TF-IDF score\n",
    "tfidf_terms2 = tfidf_terms2.sort_values('tfidf_score', ascending=False)\n",
    "\n",
    "# Create the dictionary with only biagrams\n",
    "tfidf_dic_biagrams= tfidf_terms2[tfidf_terms2['tfidf_score'] > 0.001]\n",
    "\n",
    "# Check the dictionary \n",
    "print(\"examples of bigrams in the dictionary:\")\n",
    "print(tfidf_dic_biagrams.head(10))\n",
    "print(\"number of bigrams in the dictionary:\", len(tfidf_dic_biagrams))"
   ]
  },
  {
   "cell_type": "markdown",
   "metadata": {},
   "source": [
    "#### Create a dictionary with unigrams and biagrams"
   ]
  },
  {
   "cell_type": "code",
   "execution_count": 53,
   "metadata": {},
   "outputs": [
    {
     "name": "stdout",
     "output_type": "stream",
     "text": [
      "examples of words in the dictionary:\n",
      "         term  tfidf_score\n",
      "26126   islam     0.008321\n",
      "34018  muslim     0.007232\n",
      "37580  people     0.006881\n",
      "56980   woman     0.005589\n",
      "19209    fuck     0.004428\n",
      "54780      ve     0.004306\n",
      "51725   thing     0.004142\n",
      "25910    isis     0.004118\n",
      "10244    cook     0.004081\n",
      "30442    love     0.003849\n",
      "number of words in the dictionary: 102\n"
     ]
    }
   ],
   "source": [
    "# Implement TF-IDF \n",
    "tfidf2 = TfidfVectorizer(ngram_range=(1,2))\n",
    "tfidf_matrix2 = tfidf2.fit_transform(racism['Text_cleaned'])\n",
    "tfidf_features2 = tfidf2.get_feature_names_out()\n",
    "\n",
    "# Compute the TF-IDF scores \n",
    "avg_tfidf2 = np.array(tfidf_matrix2.mean(axis=0)).flatten()\n",
    "\n",
    "# Create a dataframe with words and corresponding TF-IDF scores \n",
    "tfidf_terms2 = pd.DataFrame({'term': tfidf_features2, 'tfidf_score': avg_tfidf2})\n",
    "\n",
    "# Sort by descending TF-IDF score\n",
    "tfidf_terms2 = tfidf_terms2.sort_values('tfidf_score', ascending=False)\n",
    "\n",
    "# Create the dictionary with unigrams and biagrams\n",
    "tfidf_dictionary2= tfidf_terms2[tfidf_terms2['tfidf_score'] > 0.0015]\n",
    "\n",
    "# Check the dictionary \n",
    "print(\"examples of words in the dictionary:\")\n",
    "print(tfidf_dictionary2.head(10))\n",
    "print(\"number of words in the dictionary:\", len(tfidf_dictionary2))"
   ]
  },
  {
   "cell_type": "markdown",
   "metadata": {},
   "source": [
    "#### Common words between the twe DTM dictionary and the TF-IDF one - we compare full dictionaries, with unigrams and biagrams"
   ]
  },
  {
   "cell_type": "code",
   "execution_count": null,
   "metadata": {},
   "outputs": [
    {
     "name": "stdout",
     "output_type": "stream",
     "text": [
      "\n",
      " number of common words across the two dictionaries: 44\n",
      "examples of commond words: ['right', 'idiot', 'leave', 'hate', 'people', 'head', 'state', 'thing', 'understand', 'live', 'attack', 'sexist', 'woman', 'terrorist', 'world', 'fight', 'problem', 'stupid', 'mean', 'hadith']\n"
     ]
    }
   ],
   "source": [
    "common_terms2 = set(dtm_dictionary2['term']) & set(tfidf_dictionary2['term'])\n",
    "print(f\"\\n number of common words across the two dictionaries: {len(common_terms2)}\")\n",
    "print(\"examples of commond words:\", list(common_terms2)[:20])"
   ]
  },
  {
   "cell_type": "markdown",
   "metadata": {},
   "source": [
    "# 4. Visual Representation"
   ]
  },
  {
   "cell_type": "code",
   "execution_count": null,
   "metadata": {},
   "outputs": [
    {
     "data": {
      "image/png": "[encoded data removed]",
      "text/plain": [
       "<Figure size 2000x1200 with 4 Axes>"
      ]
     },
     "metadata": {},
     "output_type": "display_data"
    }
   ],
   "source": [
    "# We create the column 'id' to order terms in the x axis\n",
    "def add_numeric_id(df):\n",
    "    df = df.copy()  # Evita il SettingWithCopyWarning\n",
    "    df['id'] = range(1, len(df) + 1)\n",
    "    return df\n",
    "\n",
    "# Applica la funzione ai tuoi dizionari\n",
    "dtm_dictionary = add_numeric_id(dtm_dictionary)\n",
    "tfidf_dictionary = add_numeric_id(tfidf_dictionary)\n",
    "dtm_dictionary2 = add_numeric_id(dtm_dictionary2)\n",
    "tfidf_dictionary2 = add_numeric_id(tfidf_dictionary2)\n",
    "\n",
    "# Define dictionaries (assuming they are DataFrames with 'id' and 'frequency' columns)\n",
    "dictionaries = {\n",
    "    \"DTM Dictionary\": dtm_dictionary,\n",
    "    \"TF-IDF Dictionary\": tfidf_dictionary,\n",
    "    \"DTM Dictionary 2\": dtm_dictionary2,\n",
    "    \"TF-IDF Dictionary 2\": tfidf_dictionary2\n",
    "}\n",
    "\n",
    "# Calcola la frequenza normalizzando i punteggi TF-IDF\n",
    "def compute_frequency(tfidf_df):\n",
    "    if tfidf_df is not None and 'tfidf_score' in tfidf_df.columns:\n",
    "        tfidf_df['frequency'] = (tfidf_df['tfidf_score'] / tfidf_df['tfidf_score'].sum()) * 1000\n",
    "        tfidf_df['id'] = range(1, len(tfidf_df) + 1)\n",
    "\n",
    "# Esegui la funzione su entrambi i dizionari TF-IDF\n",
    "compute_frequency(tfidf_dictionary)\n",
    "compute_frequency(tfidf_dictionary2)\n",
    "\n",
    "# Create a figure with 2 rows and 2 columns\n",
    "fig, axes = plt.subplots(2, 2, figsize=(20, 12))\n",
    "\n",
    "# Flatten the axes array for easier iteration\n",
    "axes = axes.flatten()\n",
    "\n",
    "# Iterate over the dictionaries and create plots\n",
    "for ax, (title, dictionary) in zip(axes, dictionaries.items()):\n",
    "    V = dictionary.shape[0]\n",
    "    x_ids = dictionary['id']\n",
    "    frequencies = dictionary['frequency']\n",
    "\n",
    "    ax.bar(x_ids, frequencies, width=0.9, color='skyblue', align='center')\n",
    "    ax.set_title(f'Term Frequency Distribution ({title})', fontsize=14)\n",
    "    ax.set_ylabel('Frequency', fontsize=12)\n",
    "\n",
    "    # Customize spines\n",
    "    ax.spines['top'].set_visible(False)\n",
    "    ax.spines['right'].set_visible(False)\n",
    "    ax.spines['left'].set_visible(True)\n",
    "    ax.spines['bottom'].set_visible(True)\n",
    "\n",
    "    # Set x-axis limits\n",
    "    ax.set_xlim(0.5, V + 0.5)\n",
    "\n",
    "    # Ensure y-axis ticks are visible and appropriately sized\n",
    "    ax.tick_params(axis='y', labelsize=10)\n",
    "\n",
    "# Optimize layout for better spacing\n",
    "plt.tight_layout()\n",
    "\n",
    "# Display the plot\n",
    "plt.show()"
   ]
  },
  {
   "cell_type": "markdown",
   "metadata": {},
   "source": [
    "# 5. Youtube Dataset"
   ]
  },
  {
   "cell_type": "markdown",
   "metadata": {},
   "source": [
    "### 5.1 **Detect cyberbullying in youtube comments with the dictionaries we built**"
   ]
  },
  {
   "cell_type": "code",
   "execution_count": null,
   "metadata": {},
   "outputs": [
    {
     "name": "stderr",
     "output_type": "stream",
     "text": [
      "100%|██████████| 3464/3464 [00:02<00:00, 1726.53it/s]\n",
      "100%|██████████| 3464/3464 [00:02<00:00, 1666.52it/s]\n"
     ]
    },
    {
     "name": "stdout",
     "output_type": "stream",
     "text": [
      "\n",
      "Detecting sexism:\n",
      "Total comments analyzed: 3464\n",
      "Sexist comments with DTM: 1369\n",
      "Sexist comments with TF-IDF: 1969\n",
      "\n",
      "Percentages:\n",
      "DTM: 39.52%\n",
      "TF-IDF: 56.84%\n"
     ]
    },
    {
     "name": "stderr",
     "output_type": "stream",
     "text": [
      "100%|██████████| 3464/3464 [00:02<00:00, 1696.03it/s]\n",
      "100%|██████████| 3464/3464 [00:02<00:00, 1655.58it/s]\n"
     ]
    },
    {
     "name": "stdout",
     "output_type": "stream",
     "text": [
      "\n",
      "Detecting racism:\n",
      "Total comments analyzed: 3464\n",
      "Racist comments with DTM: 729\n",
      "Racist comments with TF-IDF: 2088\n",
      "\n",
      "Percentages:\n",
      "DTM: 21.05%\n",
      "TF-IDF: 60.28%\n"
     ]
    },
    {
     "name": "stderr",
     "output_type": "stream",
     "text": [
      "100%|██████████| 3464/3464 [00:01<00:00, 1857.98it/s]\n",
      "100%|██████████| 3464/3464 [00:01<00:00, 1852.87it/s]"
     ]
    },
    {
     "name": "stdout",
     "output_type": "stream",
     "text": [
      "\n",
      "Detecting racism - bigrams only:\n",
      "Total comments analyzed: 3464\n",
      "Racist comments DTM: 8\n",
      "Racist comments TF-IDF: 32\n",
      "\n",
      "Percentages:\n",
      "DTM: 0.23%\n",
      "TF-IDF: 0.92%\n"
     ]
    },
    {
     "name": "stderr",
     "output_type": "stream",
     "text": [
      "\n"
     ]
    }
   ],
   "source": [
    "def analyze_youtube_comments(youtube_df, sexism_dict, racism_dict, threshold=5):\n",
    "   # Create a copy to avoid overwriting previous results. Each call to the function will use a new copy of the dataset\n",
    "    df = youtube_df.copy()\n",
    "    \n",
    "    # Initialize classification columns\n",
    "    df['is_sexist'] = False\n",
    "    df['is_racist'] = False\n",
    "    \n",
    "    for idx, row in tqdm(df.iterrows(), total=len(df)):\n",
    "        # Split preprocessed text into words and bigrams\n",
    "        words = row['Text_cleaned'].split()\n",
    "        bigrams = [' '.join(words[i:i+2]) for i in range(len(words)-1)]\n",
    "        \n",
    "        # Count matches in dictionaries for both unigrams and bigrams\n",
    "        sexist_matches = sum(1 for word in words if word in sexism_dict['term'].values) + \\\n",
    "                        sum(1 for bigram in bigrams if bigram in sexism_dict['term'].values)\n",
    "        \n",
    "        racist_matches = sum(1 for word in words if word in racism_dict['term'].values) + \\\n",
    "                        sum(1 for bigram in bigrams if bigram in racism_dict['term'].values)\n",
    "        \n",
    "        # Flag comment if the number of matches is greater than threshold\n",
    "        df.at[idx, 'is_sexist'] = sexist_matches >= threshold\n",
    "        df.at[idx, 'is_racist'] = racist_matches >= threshold\n",
    "    \n",
    "    return df\n",
    "\n",
    "# Analyze sexism using DTM-based dictionary\n",
    "results_sexism_dtm = analyze_youtube_comments(\n",
    "    youtube,\n",
    "    sexism_dict=dtm_dictionary,\n",
    "    racism_dict=dtm_dictionary2)  # Default threshold=5\n",
    "\n",
    "# Analyze sexism using TF-IDF-based dictionary\n",
    "results_sexism_tfidf = analyze_youtube_comments(\n",
    "    youtube,\n",
    "    sexism_dict=tfidf_dictionary,\n",
    "    racism_dict=tfidf_dictionary2)  # Default threshold=5\n",
    "\n",
    "print(\"\\nDetecting sexism:\")\n",
    "print(f\"Total comments analyzed: {len(youtube)}\")\n",
    "print(f\"Sexist comments with DTM: {results_sexism_dtm['is_sexist'].sum()}\")\n",
    "print(f\"Sexist comments with TF-IDF: {results_sexism_tfidf['is_sexist'].sum()}\")\n",
    "total = len(youtube)\n",
    "sexism_pct_DTM = (results_sexism_dtm['is_sexist'].sum() / total) * 100\n",
    "sexism_pct_TFIDF = (results_sexism_tfidf['is_sexist'].sum() / total) * 100\n",
    "print(f\"\\nPercentages:\")\n",
    "print(f\"DTM: {sexism_pct_DTM:.2f}%\")\n",
    "print(f\"TF-IDF: {sexism_pct_TFIDF:.2f}%\")\n",
    "\n",
    "# Analyze racism using DTM-based dictionary\n",
    "results_racism_dtm = analyze_youtube_comments(\n",
    "    youtube,\n",
    "    sexism_dict=dtm_dictionary2,\n",
    "    racism_dict=dtm_dictionary2)  # Using default threshold=5\n",
    "\n",
    "# Analyze racism using TF-IDF-based dictionary\n",
    "results_racism_tfidf = analyze_youtube_comments(\n",
    "    youtube,\n",
    "    sexism_dict=tfidf_dictionary2,\n",
    "    racism_dict=tfidf_dictionary2)  # Using default threshold=5\n",
    "\n",
    "print(\"\\nDetecting racism:\")\n",
    "print(f\"Total comments analyzed: {len(youtube)}\")\n",
    "print(f\"Racist comments with DTM: {results_racism_dtm['is_racist'].sum()}\")\n",
    "print(f\"Racist comments with TF-IDF: {results_racism_tfidf['is_racist'].sum()}\")\n",
    "racist_pct_DTM = (results_racism_dtm['is_racist'].sum() / total) * 100\n",
    "racist_pct_TFIDF = (results_racism_tfidf['is_racist'].sum() / total) * 100\n",
    "print(f\"\\nPercentages:\")\n",
    "print(f\"DTM: {racist_pct_DTM:.2f}%\")\n",
    "print(f\"TF-IDF: {racist_pct_TFIDF:.2f}%\")\n",
    "\n",
    "# Analyze racism using bigrams-only dictionaries \n",
    "# DTM\n",
    "results_bigrams_dtm = analyze_youtube_comments(\n",
    "    youtube,\n",
    "    sexism_dict=dtm_dic_biagrams,\n",
    "    racism_dict=dtm_dic_biagrams,\n",
    "    threshold=1)  # Lower threshold due to fewer bigram matches\n",
    "\n",
    "# TF-IDF\n",
    "results_bigrams_tfidf = analyze_youtube_comments(\n",
    "    youtube,\n",
    "    sexism_dict=tfidf_dic_biagrams,\n",
    "    racism_dict=tfidf_dic_biagrams,\n",
    "    threshold=1)  # Lower threshold due to fewer bigram matches\n",
    "\n",
    "print(\"\\nDetecting racism - bigrams only:\")\n",
    "print(f\"Total comments analyzed: {len(youtube)}\")\n",
    "print(f\"Racist comments DTM: {results_bigrams_dtm['is_racist'].sum()}\")\n",
    "print(f\"Racist comments TF-IDF: {results_bigrams_tfidf['is_racist'].sum()}\")\n",
    "bi_pct_DTM = (results_bigrams_dtm['is_racist'].sum() / total) * 100\n",
    "bi_pct_TFIDF = (results_bigrams_tfidf['is_racist'].sum() / total) * 100\n",
    "print(f\"\\nPercentages:\")\n",
    "print(f\"DTM: {bi_pct_DTM:.2f}%\")\n",
    "print(f\"TF-IDF: {bi_pct_TFIDF:.2f}%\")"
   ]
  }
 ],
 "metadata": {
  "kernelspec": {
   "display_name": "DS_enviroment",
   "language": "python",
   "name": "python3"
  },
  "language_info": {
   "codemirror_mode": {
    "name": "ipython",
    "version": 3
   },
   "file_extension": ".py",
   "mimetype": "text/x-python",
   "name": "python",
   "nbconvert_exporter": "python",
   "pygments_lexer": "ipython3",
   "version": "3.12.2"
  }
 },
 "nbformat": 4,
 "nbformat_minor": 2
}
